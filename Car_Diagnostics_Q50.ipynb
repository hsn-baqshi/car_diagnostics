{
  "nbformat": 4,
  "nbformat_minor": 0,
  "metadata": {
    "colab": {
      "provenance": [],
      "authorship_tag": "ABX9TyOlS3wFmAzuKBMAdwMPzqPN",
      "include_colab_link": true
    },
    "kernelspec": {
      "name": "python3",
      "display_name": "Python 3"
    },
    "language_info": {
      "name": "python"
    }
  },
  "cells": [
    {
      "cell_type": "markdown",
      "metadata": {
        "id": "view-in-github",
        "colab_type": "text"
      },
      "source": [
        "<a href=\"https://colab.research.google.com/github/hsn-baqshi/car_diagnostics/blob/main/Car_Diagnostics_Q50.ipynb\" target=\"_parent\"><img src=\"https://colab.research.google.com/assets/colab-badge.svg\" alt=\"Open In Colab\"/></a>"
      ]
    },
    {
      "cell_type": "code",
      "source": [
        "# Import the module\n",
        "from sklearn.model_selection import train_test_split\n",
        "# Import Pandas and Numpy\n",
        "import pandas as pd\n",
        "import numpy as np\n",
        "# Import LabelEncoder for preprocessing\n",
        "from sklearn.preprocessing import LabelEncoder\n",
        "# Import KNN\n",
        "from sklearn.neighbors import KNeighborsClassifier\n",
        "# Import plot\n",
        "import matplotlib.pyplot as plt\n",
        "# Import Linear Regression\n",
        "from sklearn.linear_model import LinearRegression\n",
        "# Import Lasso\n",
        "from sklearn.linear_model import Lasso\n",
        "# Import scaler\n",
        "from sklearn.preprocessing import StandardScaler\n",
        "# Imprt Decision Tree and Logistic Regression\n",
        "from sklearn.tree import DecisionTreeClassifier\n",
        "from sklearn.linear_model import LogisticRegression\n",
        "# Import cross_val\n",
        "from sklearn.model_selection import *\n",
        "# Import stats\n",
        "from scipy.stats import poisson\n",
        "# Import Seaborn\n",
        "import seaborn as sns\n",
        "# Import StandardScaler\n",
        "from sklearn.preprocessing import StandardScaler\n",
        "# Import Pipeline\n",
        "from sklearn.pipeline import make_pipeline\n",
        "# Import normalize\n",
        "from sklearn.preprocessing import normalize\n",
        "# Import kmeans\n",
        "from sklearn.cluster import KMeans\n",
        "# Import File\n",
        "from google.colab import files\n",
        "# Import Linkage and Dendrogram\n",
        "from scipy.cluster.hierarchy import linkage, dendrogram\n",
        "# Import TSNE\n",
        "from sklearn.manifold import TSNE"
      ],
      "metadata": {
        "id": "bqnw6_NLNDQO"
      },
      "execution_count": null,
      "outputs": []
    },
    {
      "cell_type": "code",
      "execution_count": null,
      "metadata": {
        "colab": {
          "base_uri": "https://localhost:8080/",
          "height": 73
        },
        "id": "d6DJTcqAMn-D",
        "outputId": "b48ae0bd-5377-4c93-e4d6-8dc0714c0720"
      },
      "outputs": [
        {
          "output_type": "display_data",
          "data": {
            "text/plain": [
              "<IPython.core.display.HTML object>"
            ],
            "text/html": [
              "\n",
              "     <input type=\"file\" id=\"files-ed439dc4-190e-480f-b5ea-26739abbf229\" name=\"files[]\" multiple disabled\n",
              "        style=\"border:none\" />\n",
              "     <output id=\"result-ed439dc4-190e-480f-b5ea-26739abbf229\">\n",
              "      Upload widget is only available when the cell has been executed in the\n",
              "      current browser session. Please rerun this cell to enable.\n",
              "      </output>\n",
              "      <script>// Copyright 2017 Google LLC\n",
              "//\n",
              "// Licensed under the Apache License, Version 2.0 (the \"License\");\n",
              "// you may not use this file except in compliance with the License.\n",
              "// You may obtain a copy of the License at\n",
              "//\n",
              "//      http://www.apache.org/licenses/LICENSE-2.0\n",
              "//\n",
              "// Unless required by applicable law or agreed to in writing, software\n",
              "// distributed under the License is distributed on an \"AS IS\" BASIS,\n",
              "// WITHOUT WARRANTIES OR CONDITIONS OF ANY KIND, either express or implied.\n",
              "// See the License for the specific language governing permissions and\n",
              "// limitations under the License.\n",
              "\n",
              "/**\n",
              " * @fileoverview Helpers for google.colab Python module.\n",
              " */\n",
              "(function(scope) {\n",
              "function span(text, styleAttributes = {}) {\n",
              "  const element = document.createElement('span');\n",
              "  element.textContent = text;\n",
              "  for (const key of Object.keys(styleAttributes)) {\n",
              "    element.style[key] = styleAttributes[key];\n",
              "  }\n",
              "  return element;\n",
              "}\n",
              "\n",
              "// Max number of bytes which will be uploaded at a time.\n",
              "const MAX_PAYLOAD_SIZE = 100 * 1024;\n",
              "\n",
              "function _uploadFiles(inputId, outputId) {\n",
              "  const steps = uploadFilesStep(inputId, outputId);\n",
              "  const outputElement = document.getElementById(outputId);\n",
              "  // Cache steps on the outputElement to make it available for the next call\n",
              "  // to uploadFilesContinue from Python.\n",
              "  outputElement.steps = steps;\n",
              "\n",
              "  return _uploadFilesContinue(outputId);\n",
              "}\n",
              "\n",
              "// This is roughly an async generator (not supported in the browser yet),\n",
              "// where there are multiple asynchronous steps and the Python side is going\n",
              "// to poll for completion of each step.\n",
              "// This uses a Promise to block the python side on completion of each step,\n",
              "// then passes the result of the previous step as the input to the next step.\n",
              "function _uploadFilesContinue(outputId) {\n",
              "  const outputElement = document.getElementById(outputId);\n",
              "  const steps = outputElement.steps;\n",
              "\n",
              "  const next = steps.next(outputElement.lastPromiseValue);\n",
              "  return Promise.resolve(next.value.promise).then((value) => {\n",
              "    // Cache the last promise value to make it available to the next\n",
              "    // step of the generator.\n",
              "    outputElement.lastPromiseValue = value;\n",
              "    return next.value.response;\n",
              "  });\n",
              "}\n",
              "\n",
              "/**\n",
              " * Generator function which is called between each async step of the upload\n",
              " * process.\n",
              " * @param {string} inputId Element ID of the input file picker element.\n",
              " * @param {string} outputId Element ID of the output display.\n",
              " * @return {!Iterable<!Object>} Iterable of next steps.\n",
              " */\n",
              "function* uploadFilesStep(inputId, outputId) {\n",
              "  const inputElement = document.getElementById(inputId);\n",
              "  inputElement.disabled = false;\n",
              "\n",
              "  const outputElement = document.getElementById(outputId);\n",
              "  outputElement.innerHTML = '';\n",
              "\n",
              "  const pickedPromise = new Promise((resolve) => {\n",
              "    inputElement.addEventListener('change', (e) => {\n",
              "      resolve(e.target.files);\n",
              "    });\n",
              "  });\n",
              "\n",
              "  const cancel = document.createElement('button');\n",
              "  inputElement.parentElement.appendChild(cancel);\n",
              "  cancel.textContent = 'Cancel upload';\n",
              "  const cancelPromise = new Promise((resolve) => {\n",
              "    cancel.onclick = () => {\n",
              "      resolve(null);\n",
              "    };\n",
              "  });\n",
              "\n",
              "  // Wait for the user to pick the files.\n",
              "  const files = yield {\n",
              "    promise: Promise.race([pickedPromise, cancelPromise]),\n",
              "    response: {\n",
              "      action: 'starting',\n",
              "    }\n",
              "  };\n",
              "\n",
              "  cancel.remove();\n",
              "\n",
              "  // Disable the input element since further picks are not allowed.\n",
              "  inputElement.disabled = true;\n",
              "\n",
              "  if (!files) {\n",
              "    return {\n",
              "      response: {\n",
              "        action: 'complete',\n",
              "      }\n",
              "    };\n",
              "  }\n",
              "\n",
              "  for (const file of files) {\n",
              "    const li = document.createElement('li');\n",
              "    li.append(span(file.name, {fontWeight: 'bold'}));\n",
              "    li.append(span(\n",
              "        `(${file.type || 'n/a'}) - ${file.size} bytes, ` +\n",
              "        `last modified: ${\n",
              "            file.lastModifiedDate ? file.lastModifiedDate.toLocaleDateString() :\n",
              "                                    'n/a'} - `));\n",
              "    const percent = span('0% done');\n",
              "    li.appendChild(percent);\n",
              "\n",
              "    outputElement.appendChild(li);\n",
              "\n",
              "    const fileDataPromise = new Promise((resolve) => {\n",
              "      const reader = new FileReader();\n",
              "      reader.onload = (e) => {\n",
              "        resolve(e.target.result);\n",
              "      };\n",
              "      reader.readAsArrayBuffer(file);\n",
              "    });\n",
              "    // Wait for the data to be ready.\n",
              "    let fileData = yield {\n",
              "      promise: fileDataPromise,\n",
              "      response: {\n",
              "        action: 'continue',\n",
              "      }\n",
              "    };\n",
              "\n",
              "    // Use a chunked sending to avoid message size limits. See b/62115660.\n",
              "    let position = 0;\n",
              "    do {\n",
              "      const length = Math.min(fileData.byteLength - position, MAX_PAYLOAD_SIZE);\n",
              "      const chunk = new Uint8Array(fileData, position, length);\n",
              "      position += length;\n",
              "\n",
              "      const base64 = btoa(String.fromCharCode.apply(null, chunk));\n",
              "      yield {\n",
              "        response: {\n",
              "          action: 'append',\n",
              "          file: file.name,\n",
              "          data: base64,\n",
              "        },\n",
              "      };\n",
              "\n",
              "      let percentDone = fileData.byteLength === 0 ?\n",
              "          100 :\n",
              "          Math.round((position / fileData.byteLength) * 100);\n",
              "      percent.textContent = `${percentDone}% done`;\n",
              "\n",
              "    } while (position < fileData.byteLength);\n",
              "  }\n",
              "\n",
              "  // All done.\n",
              "  yield {\n",
              "    response: {\n",
              "      action: 'complete',\n",
              "    }\n",
              "  };\n",
              "}\n",
              "\n",
              "scope.google = scope.google || {};\n",
              "scope.google.colab = scope.google.colab || {};\n",
              "scope.google.colab._files = {\n",
              "  _uploadFiles,\n",
              "  _uploadFilesContinue,\n",
              "};\n",
              "})(self);\n",
              "</script> "
            ]
          },
          "metadata": {}
        },
        {
          "output_type": "stream",
          "name": "stdout",
          "text": [
            "Saving Q50_data.csv to Q50_data.csv\n"
          ]
        }
      ],
      "source": [
        "\n",
        "# create an upload file variable\n",
        "\n",
        "uploaded = files.upload()\n",
        "\n",
        "#upload the file into df2\n",
        "\n",
        "import io\n",
        "df2 = pd.read_csv(io.BytesIO(uploaded['Q50_data.csv']), parse_dates = [\"Time\"])\n"
      ]
    },
    {
      "cell_type": "code",
      "source": [
        "#Adding power\n",
        "\n",
        "df2['Power (HP)'] = 0.141* df2[list(df2.columns)[4]]*df2[list(df2.columns)[8]]\n",
        "\n",
        "#Removing Repeated Columns vvv\n",
        "\n",
        "df2.drop([list(df2.columns)[5],list(df2.columns)[6],list(df2.columns)[7]], axis=1)\n",
        "\n",
        "#Normalizing df2 data into norm_df2 vvvv\n",
        "\n",
        "norm_df2 = pd.DataFrame()\n",
        "for i in range(len(list(df2.columns))):\n",
        "  norm_df2[ list(df2.columns)[i] ] = ( df2[list(df2.columns)[i]] - min( df2[list(df2.columns)[i]] ) ) / ( max( df2[list(df2.columns)[i]] ) - min( df2[list(df2.columns)[i]] ) )\n",
        "\n",
        "\n",
        "df3 = df2"
      ],
      "metadata": {
        "id": "8OD6IJHKl4u5"
      },
      "execution_count": null,
      "outputs": []
    },
    {
      "cell_type": "code",
      "source": [
        "\n",
        "df2 = df2.drop(df2.index[range(1000)])\n",
        "#df2 = df2.loc[(df2[list(df2.columns)[1]] > 80) & (df2[list(df2.columns)[5]] > 5)]\n",
        "\n",
        "norm_df2 = pd.DataFrame(norm_df2)"
      ],
      "metadata": {
        "id": "4PIlqWuTipIi"
      },
      "execution_count": null,
      "outputs": []
    },
    {
      "cell_type": "code",
      "source": [
        "## TAKES TOO LONG ## Plotting the data on one graph\n",
        "\n",
        "for i in np.arange(1,len(list(df2.columns))-1):\n",
        "  sns.lineplot(x = \"Time\", y = list(norm_df2.columns)[i], data = norm_df2, label = list(norm_df2.columns)[i])\n",
        "\n",
        "plt.legend(bbox_to_anchor=(1.05, 1), loc=2, borderaxespad=0.)\n",
        "plt.ylabel(\"Car Parameters vs Time\")\n",
        "plt.xticks(rotation = 20)\n",
        "plt.show()\n"
      ],
      "metadata": {
        "colab": {
          "base_uri": "https://localhost:8080/"
        },
        "id": "eiD6Af76D5XT",
        "outputId": "28911204-6860-476a-dd72-76c6c613d640"
      },
      "execution_count": null,
      "outputs": [
        {
          "output_type": "stream",
          "name": "stdout",
          "text": [
            "Engine coolant temperature (°C)\n"
          ]
        }
      ]
    },
    {
      "cell_type": "code",
      "source": [
        "#Plotting the figures seasonally\n",
        "\n",
        "fig = plt.figure(figsize=(20,30))\n",
        "myVars = vars()\n",
        "\n",
        "for i in np.arange(1,len(list(df2.columns))):\n",
        "\n",
        "  myVars['ax'+str(i)] = fig.add_subplot(len(list(df2.columns))-1,1,i, ylabel = list(df2.columns)[i] )\n",
        "  myVars['ax'+str(i)].plot(df2[\"Time\"], df2[list(df2.columns)[i] ])\n",
        "\n",
        "\n",
        "plt.show()"
      ],
      "metadata": {
        "id": "bbPzbGw_DmnK"
      },
      "execution_count": null,
      "outputs": []
    },
    {
      "cell_type": "code",
      "source": [
        "#### Clustering using KMeans\n",
        "\n",
        "X = df2.drop(\"Time\", axis=1).values\n",
        "\n",
        "ks = range(1, 30)\n",
        "inertias = []\n",
        "\n",
        "for k in ks:\n",
        "    # Create a KMeans instance with k clusters: model\n",
        "    model = KMeans(n_clusters = k)\n",
        "\n",
        "    # Fit model to samples\n",
        "    model.fit(X)\n",
        "\n",
        "    # Append the inertia to the list of inertias\n",
        "    inertias.append(model.inertia_)\n",
        "\n",
        "\n",
        "\n",
        "# Plot ks vs inertias\n",
        "plt.plot(ks, inertias, '-o')\n",
        "plt.xlabel('number of clusters, k')\n",
        "plt.ylabel('inertia')\n",
        "plt.xticks(ks)\n",
        "plt.show()\n",
        "\n",
        "scaler = StandardScaler()\n",
        "kmeans = KMeans(n_clusters = 3 )\n",
        "pipeline = make_pipeline(scaler,kmeans)\n",
        "pipeline.fit(X)\n",
        "\n",
        "\n",
        "labels = pipeline.predict(X)\n",
        "\n",
        "# creating a dataframe of the predicted labels and actual categories\n",
        "lf = pd.DataFrame({'labels': labels, 'features': df2[list(df2.columns)[1]]})\n",
        "\n",
        "# Cross-tabulation of the predicted features vs actual categories\n",
        "ct = pd.crosstab(lf['labels'],lf['features'])\n",
        "print(ct)\n",
        "\n",
        "print(len(labels))\n",
        "\n",
        "# Assign the cluster centers: centroids\n",
        "centroids = kmeans.cluster_centers_\n",
        "\n",
        "# Assign the columns of centroids: centroids_x, centroids_y\n",
        "centroids_x = centroids[:,0]\n",
        "centroids_y = centroids[:,1]\n",
        "\n",
        "\n",
        "xs = X[:,1]\n",
        "ys = X[:,2]\n",
        "plt.scatter(xs,ys,c=labels)\n",
        "plt.scatter(centroids_x,centroids_y,marker='D',s=50)\n",
        "plt.show()\n",
        "\n"
      ],
      "metadata": {
        "id": "DH5heZZyNUpU"
      },
      "execution_count": null,
      "outputs": []
    },
    {
      "cell_type": "code",
      "source": [
        "## Showing Heirarchy Method\n",
        "\n",
        "X = df2.drop(\"Time\", axis=1).values\n",
        "\n",
        "\n",
        "# Normalize the data: normalized_movements\n",
        "normalized_X = normalize(X)\n",
        "\n",
        "# Calculate the linkage: mergings\n",
        "mergings = linkage(normalized_X,method='complete')\n",
        "\n",
        "# Plot the dendrogram\n",
        "dendrogram(mergings,\n",
        "           labels=labels,\n",
        "           leaf_rotation=90,\n",
        "           leaf_font_size=6,\n",
        ")\n",
        "plt.show()\n"
      ],
      "metadata": {
        "id": "wu-_XrqfK16f"
      },
      "execution_count": null,
      "outputs": []
    },
    {
      "cell_type": "code",
      "source": [
        "##### Clustering using TSNE\n",
        "\n",
        "X = df2.drop(\"Time\", axis=1).values\n",
        "\n",
        "# Create a TSNE instance: model\n",
        "model = TSNE(learning_rate=50)\n",
        "\n",
        "# Apply fit_transform to samples: tsne_features\n",
        "tsne_features = model.fit_transform(X)\n",
        "\n",
        "# Select the 0th feature: xs\n",
        "xs = tsne_features[:,0]\n",
        "\n",
        "# Select the 1st feature: ys\n",
        "ys = tsne_features[:,1]\n",
        "\n",
        "# Scatter plot, coloring by variety_numbers\n",
        "plt.scatter(xs,ys)\n",
        "plt.show()\n"
      ],
      "metadata": {
        "colab": {
          "base_uri": "https://localhost:8080/",
          "height": 320
        },
        "id": "zv8pcrHWJ1Vm",
        "outputId": "e95bce97-e831-44c1-a09e-fcbba09f8d2a"
      },
      "execution_count": null,
      "outputs": [
        {
          "output_type": "stream",
          "name": "stderr",
          "text": [
            "/usr/local/lib/python3.8/dist-packages/sklearn/manifold/_t_sne.py:780: FutureWarning: The default initialization in TSNE will change from 'random' to 'pca' in 1.2.\n",
            "  warnings.warn(\n"
          ]
        },
        {
          "output_type": "display_data",
          "data": {
            "text/plain": [
              "<Figure size 432x288 with 1 Axes>"
            ],
            "image/png": "[encoded data removed]"
          },
          "metadata": {
            "needs_background": "light"
          }
        }
      ]
    },
    {
      "cell_type": "code",
      "source": [
        "df2[:,1]"
      ],
      "metadata": {
        "colab": {
          "base_uri": "https://localhost:8080/",
          "height": 166
        },
        "id": "44cARsebbVTW",
        "outputId": "54e670a9-dab7-48dc-bd66-5b75c359e513"
      },
      "execution_count": null,
      "outputs": [
        {
          "output_type": "error",
          "ename": "NameError",
          "evalue": "ignored",
          "traceback": [
            "\u001b[0;31m---------------------------------------------------------------------------\u001b[0m",
            "\u001b[0;31mNameError\u001b[0m                                 Traceback (most recent call last)",
            "\u001b[0;32m<ipython-input-1-7bab1449c84e>\u001b[0m in \u001b[0;36m<module>\u001b[0;34m\u001b[0m\n\u001b[0;32m----> 1\u001b[0;31m \u001b[0mdf2\u001b[0m\u001b[0;34m[\u001b[0m\u001b[0;34m:\u001b[0m\u001b[0;34m,\u001b[0m\u001b[0;36m1\u001b[0m\u001b[0;34m]\u001b[0m\u001b[0;34m\u001b[0m\u001b[0;34m\u001b[0m\u001b[0m\n\u001b[0m",
            "\u001b[0;31mNameError\u001b[0m: name 'df2' is not defined"
          ]
        }
      ]
    }
  ]
}